{
  "cells": [
    {
      "cell_type": "markdown",
      "metadata": {
        "id": "as9EVp4yGos-"
      },
      "source": [
        "## Introduction"
      ]
    },
    {
      "cell_type": "markdown",
      "metadata": {
        "id": "_p_WNmtZGotF"
      },
      "source": [
        "In this notebook, we will explore some fundamental methods for extracting features. Specifically, we will use the term \"**features**\" to refer to the various attributes used to describe and classify segments in an image.\n",
        "\n",
        "Once segments have been created in an image (as we did in the previous notebook), the next crucial step is to characterize these segments in a way that captures their meaningful properties. The strength of **Object-Based Image Analysis (OBIA)** lies in its ability to use various features to characterize segments, extending beyond simple spectral properties. Features such as shape, texture, and contextual characteristics can greatly enhance the classification of these segments.\n",
        "\n",
        "Extracting features in Python requires aggregating pixel information for each segment. There are various ways to achieve this. In Python, the `regionprops()` function from the [skimage](https://scikit-image.org/docs/stable/api/skimage.measure.html#skimage.measure.regionprops_table) library can be used as it comes with several pre-implemented features."
      ]
    },
    {
      "cell_type": "markdown",
      "metadata": {
        "id": "CNRBl8HeGotJ"
      },
      "source": [
        "## **Setup**\n",
        "\n",
        "Please run the cell below. After that, go to **Runtime -> Restart session**, and confirm. Once the session restarts, move on to the next cell **without running this one again**."
      ]
    },
    {
      "cell_type": "code",
      "execution_count": null,
      "metadata": {
        "id": "YqS3sDBPGotL",
        "outputId": "c7709a3c-5ba5-41ea-8033-f1a8ddf8addb",
        "colab": {
          "base_uri": "https://localhost:8080/"
        }
      },
      "outputs": [
        {
          "output_type": "stream",
          "name": "stdout",
          "text": [
            "Cloning into 'obia_tutorials'...\n",
            "remote: Enumerating objects: 125, done.\u001b[K\n",
            "remote: Counting objects: 100% (18/18), done.\u001b[K\n",
            "remote: Compressing objects: 100% (16/16), done.\u001b[K\n",
            "remote: Total 125 (delta 7), reused 5 (delta 2), pack-reused 107 (from 1)\u001b[K\n",
            "Receiving objects: 100% (125/125), 93.26 MiB | 38.50 MiB/s, done.\n",
            "Resolving deltas: 100% (52/52), done.\n"
          ]
        }
      ],
      "source": [
        "# Check if running on Google Colab\n",
        "if 'google.colab' in str(get_ipython()):\n",
        "    import os\n",
        "    repo_dir = \"obia_tutorials\"\n",
        "    marker_file = os.path.join(repo_dir, \".setup_done\")\n",
        "\n",
        "    # Setup the environment only if it hasn't been done already\n",
        "    if not os.path.exists(marker_file):\n",
        "        # Clone the repository\n",
        "        !git clone https://github.com/mariarodriguezn/obia_tutorials.git\n",
        "\n",
        "        # Install the required packages\n",
        "        !pip install -r obia_tutorials/requirements.txt\n",
        "\n",
        "        # Create a marker file to avoid re-running the setup\n",
        "        with open(marker_file, 'w') as f:\n",
        "            f.write(\"Setup completed\")"
      ]
    },
    {
      "cell_type": "code",
      "execution_count": null,
      "metadata": {
        "id": "KQKMaGJTGotN"
      },
      "outputs": [],
      "source": [
        "# imports\n",
        "import matplotlib.colors as mcolors\n",
        "import matplotlib.pyplot as plt\n",
        "import numpy as np\n",
        "import pandas as pd\n",
        "import time\n",
        "import rasterio\n",
        "\n",
        "from scipy import stats\n",
        "from skimage.color import label2rgb\n",
        "from skimage.measure import regionprops, regionprops_table\n",
        "from skimage.segmentation import mark_boundaries, slic\n",
        "from skimage.util import map_array\n",
        "from tqdm import tqdm"
      ]
    },
    {
      "cell_type": "markdown",
      "metadata": {
        "id": "wVbJdAZoGotP"
      },
      "source": [
        "## **Exemplary data**"
      ]
    },
    {
      "cell_type": "markdown",
      "metadata": {
        "id": "hpKtfiqJGotQ"
      },
      "source": [
        "In this notebook, we will continue working with the same high-resolution image used in the first notebook of this series. This image contains four spectral bands: Red, Green, Blue, and Near-Infrared (NIR). Additionally, we will utilize the Normalized Difference Vegetation Index (NDVI) that was calculated from these bands.\n",
        "\n",
        "Our analysis will begin with a segmentation process using the Simple Linear Iterative Clustering (SLIC) algorithm, which was also introduced in the first notebook. Specifically, we will use a compactness value of 0.3 and set the number of superpixels to 3000. This segmentation will help us divide the image into manageable segments, which we will then characterize using various features."
      ]
    },
    {
      "cell_type": "code",
      "execution_count": null,
      "metadata": {
        "id": "OmqhF8e6GotR"
      },
      "outputs": [],
      "source": [
        "# File path to the image\n",
        "img_path = \"obia_tutorials/sample_data/ortho_subset_I.tif\"\n",
        "\n",
        "# Read the image and extract the bands\n",
        "with rasterio.open(img_path) as src:\n",
        "    # Extract red, green, blue, and NIR bands, normalize to [0, 1]\n",
        "    bands = src.read([1, 2, 3, 4]).astype(float) / 255\n",
        "    red, green, blue, nir = bands\n",
        "\n",
        "# Stack RGB into an array\n",
        "rgb = np.stack([red, green, blue], axis=-1)\n",
        "\n",
        "# Calculate NDVI\n",
        "ndvi = (nir - red) / (nir + red + 1e-6)  # small value added to avoid division by zero\n",
        "\n",
        "# Stack all bands into an array\n",
        "image = np.stack([red, green, blue, nir], axis=-1)\n",
        "\n",
        "# Set the fixed compactness and number of superpixels\n",
        "compactness = 0.3\n",
        "n_segments = 3000\n",
        "\n",
        "# Generate segments using SLIC\n",
        "segments = slic(image, n_segments=n_segments, compactness=compactness, start_label=1)\n",
        "\n",
        "# Create the figure with 3 subplots\n",
        "fig, axs = plt.subplots(ncols=3, figsize=(15, 5), constrained_layout=True)\n",
        "\n",
        "# Display the original RGB image\n",
        "axs[0].imshow(rgb)\n",
        "axs[0].set_title(\"Original RGB\")\n",
        "\n",
        "# Display the RGB image with segmentation boundaries for 3000 segments\n",
        "axs[1].imshow(mark_boundaries(rgb, segments, color=(1, 0, 0), mode=\"thick\"))\n",
        "axs[1].set_title(f\"SLIC Segmentation Boundaries ({n_segments} segments)\")\n",
        "\n",
        "# Display the mean RGB per segment\n",
        "axs[2].imshow(label2rgb(segments, rgb, kind='avg'))\n",
        "axs[2].set_title(\"Mean RGB per Segment\")\n",
        "\n",
        "# Remove axis for all subplots\n",
        "for ax in axs:\n",
        "    ax.set_axis_off()\n",
        "\n",
        "# Display the combined figure\n",
        "plt.show()"
      ]
    },
    {
      "cell_type": "markdown",
      "source": [
        "From executing the next two cells, we can observe two key points:\n",
        "\n",
        "1.   **Image Details**: The image has a resolution of 1500x1500 pixels and contains four spectral bands: Red, Green, Blue, and Near-Infrared (NIR). This high resolution allows us to explore the scalability of the feature extractions. To facilitate this, a **decorator** will be used to measure the execution time of certain functions defined later on.\n",
        "\n",
        "2.    **Segmentation Results**: The resulting segments (2957) from the SLIC method are slightly fewer than the target number of superpixels (3000) selected. This is expected because the SLIC algorithm balances color similarity with spatial proximity, sometimes merging or adjusting segments to maintain coherence, especially in areas with less distinct boundaries. As a result, the final number of segments may be slightly lower than the requested number.\n"
      ],
      "metadata": {
        "id": "5lSo1W935aJn"
      }
    },
    {
      "cell_type": "code",
      "execution_count": null,
      "metadata": {
        "id": "cOGZ6NWrGotS"
      },
      "outputs": [],
      "source": [
        "# Print basic information on image & segmentation\n",
        "print(f\"Image shape: {image.shape}\")\n",
        "print(f\"Number of segments: {len(np.unique(segments))}\")"
      ]
    },
    {
      "cell_type": "code",
      "execution_count": null,
      "metadata": {
        "id": "yU48XdjsGotU"
      },
      "outputs": [],
      "source": [
        "# Decorator for timing\n",
        "def timeit(method):\n",
        "    def timed(*args, **kw):\n",
        "        tstart = time.perf_counter()\n",
        "        result = method(*args, **kw)\n",
        "        tend = time.perf_counter()\n",
        "        total_ms = (tend - tstart)\n",
        "        print(f\"Execution time: {total_ms:.2f}s\")\n",
        "        return result\n",
        "    return timed"
      ]
    },
    {
      "cell_type": "markdown",
      "metadata": {
        "id": "XFeLX3qeGotU"
      },
      "source": [
        "## **Types of features**"
      ]
    },
    {
      "cell_type": "markdown",
      "metadata": {
        "id": "FFY5WbaKGotV"
      },
      "source": [
        "### **I. Spectral features**"
      ]
    },
    {
      "cell_type": "markdown",
      "source": [
        "Spectral features capture the radiometric properties of segments by analyzing pixel values across different spectral bands. In this tutorial we've focused on the **intensity mean** and **standard deviation** spectral features."
      ],
      "metadata": {
        "id": "EXOrMzbx-q3I"
      }
    },
    {
      "cell_type": "markdown",
      "source": [
        "#### **I. Intensity Mean**"
      ],
      "metadata": {
        "id": "e6E5XWec-yeh"
      }
    },
    {
      "cell_type": "markdown",
      "source": [
        " The intensity mean represents the average spectral value for each band within a segment. This value is crucial as it provides a summary statistic of the segment's radiometric properties, which can be used for further classification or analysis."
      ],
      "metadata": {
        "id": "BVmQ8YpX-8WF"
      }
    },
    {
      "cell_type": "markdown",
      "source": [
        "In the code below, by using the `regionprops_table` function from the [skimage.measure](https://scikit-image.org/docs/stable/api/skimage.measure.html) module we compute the intensity mean values for each segment across the different bands (Red, Green, Blue, and NDVI)."
      ],
      "metadata": {
        "id": "sgXL99fd_KVT"
      }
    },
    {
      "cell_type": "code",
      "execution_count": null,
      "metadata": {
        "id": "Wv5zFsZtGotV"
      },
      "outputs": [],
      "source": [
        "# Define intensity mean calculation function\n",
        "@timeit\n",
        "def calc_mean(seg_arr, img_arr):\n",
        "    spec_feats = regionprops_table(\n",
        "        label_image = seg_arr, # Segmented image\n",
        "        intensity_image = img_arr, # Image stack (R, G, B, NDVI)\n",
        "        properties = [\"label\", \"intensity_mean\"] # Calculate intensity mean per band\n",
        "        )\n",
        "    return pd.DataFrame(spec_feats)\n",
        "\n",
        "# Perform calculation\n",
        "means = calc_mean(segments, np.dstack([rgb, ndvi]))\n",
        "display(means)"
      ]
    },
    {
      "cell_type": "markdown",
      "source": [
        "#####**Task 1**\n",
        "Considering the NDVI mean (intensity_mean-3 in the table above) for each segment, discuss what range of values would you expect for segments corresponding to Water, Meadow, and Trees cover?\n"
      ],
      "metadata": {
        "id": "XYCx2qU-Me0U"
      }
    },
    {
      "cell_type": "markdown",
      "source": [
        "**You answer goes here:**"
      ],
      "metadata": {
        "id": "N4e4GcajOLqU"
      }
    },
    {
      "cell_type": "markdown",
      "source": [
        "Now, let's see how the mean NDVI is distributed within each segment. On the left, we have the original RGB image with the SLIC segment boundaries, and on the right, the mean NDVI values are displayed for each segment."
      ],
      "metadata": {
        "id": "GBzNyHxFCMb9"
      }
    },
    {
      "cell_type": "code",
      "source": [
        "# Mapping NDVI mean values back to image segments\n",
        "mapped_mean = map_array(\n",
        "    segments,\n",
        "    np.array(means[\"label\"]),\n",
        "    np.array(means[\"intensity_mean-3\"])\n",
        ")\n",
        "\n",
        "# Visualize the results\n",
        "fig, axs = plt.subplots(ncols=2, figsize=(10,5), constrained_layout=True)\n",
        "axs[0].imshow(mark_boundaries(rgb, segments, (1,0,0), mode=\"thick\"))\n",
        "im = axs[1].imshow(mapped_mean, cmap=\"YlGn\")\n",
        "fig.colorbar(im, ax=axs[1], fraction=0.046, pad=0.04)\n",
        "\n",
        "axs[0].set_title(\"RGB & Boundaries\")\n",
        "axs[1].set_title(\"NDVI per Pixel\")\n",
        "axs[1].set_title(\"Mean NDVI per Segment\")\n",
        "\n",
        "\n",
        "for ax in axs.flat:\n",
        "    ax.set_axis_off()\n",
        "\n",
        "plt.show()\n"
      ],
      "metadata": {
        "id": "BDBSAew5Ar-5"
      },
      "execution_count": null,
      "outputs": []
    },
    {
      "cell_type": "markdown",
      "source": [
        "#### **II. Standard Deviation**"
      ],
      "metadata": {
        "id": "lv_bsCt6CvNr"
      }
    },
    {
      "cell_type": "markdown",
      "source": [
        "Standard deviation is a statistical measure that tells how much the values within a segment vary from the mean. In the context of image analysis, calculating the standard deviation for each segment can provide insights into the homogeneity or variability of the segment's pixel values. For example, a low standard deviation in an NDVI segment might indicate uniform vegetation health, while a high standard deviation could suggest a mix of healthy and stressed vegetation within that segment.\n",
        "\n",
        "To calculate the standard deviation for each segment, we can create a custom function using the `extra_property` parameter in `regionprops`. The function uses a `regionmask`, which identifies the pixels belonging to the segment and calculates their standard deviation.\n",
        "\n",
        "The following example demonstrates how to use the `extra_property` parameter in regionprops to calculate the standard deviation of pixel values within each segment for the Red, Green, Blue, and NDVI bands."
      ],
      "metadata": {
        "id": "4qUxgW5xFo7X"
      }
    },
    {
      "cell_type": "markdown",
      "source": [
        "#####**Task 2**\n",
        "Complete the code below to perform the calculation of the Standard Deviation for each segment (stds).\n",
        "\n",
        "**Hint**: The code structure is the same as the one used for calculating the mean before, but this time you must use the *calc_std* function"
      ],
      "metadata": {
        "id": "HBy6jr0CO4Pc"
      }
    },
    {
      "cell_type": "code",
      "execution_count": null,
      "metadata": {
        "id": "28aJdejvGotW"
      },
      "outputs": [],
      "source": [
        "# Define a custom function to calculate the standard deviation for each segment\n",
        "def std(regionmask, intensity_img):\n",
        "    vals = intensity_img[regionmask]\n",
        "    std = np.std(vals)\n",
        "    return std\n",
        "\n",
        "@timeit\n",
        "\n",
        "# Define a function to calculate standard deviation for all segments\n",
        "def calc_std(seg_arr, img_arr):\n",
        "    spec_feats = regionprops_table(\n",
        "        label_image = seg_arr,\n",
        "        intensity_image = img_arr,\n",
        "        properties = [\"label\",],\n",
        "        extra_properties=(std,)\n",
        "        )\n",
        "    return pd.DataFrame(spec_feats)\n",
        "\n",
        "#### Your code here to Perform the stds calculation *****\n",
        "stds =\n"
      ]
    },
    {
      "cell_type": "markdown",
      "source": [
        "Now, let's explore how the standard deviation of NDVI values is distributed within each segment. On the left, we have the original RGB image with the SLIC segment boundaries, and on the right, the standard deviation of NDVI values is displayed for each segment."
      ],
      "metadata": {
        "id": "x3bJDDh3IwFS"
      }
    },
    {
      "cell_type": "code",
      "source": [
        "# Map the standard deviation of NDVI values back to image segments\n",
        "mapped_std = map_array(\n",
        "    segments,\n",
        "    np.array(stds[\"label\"]),\n",
        "    np.array(stds[\"std-3\"])\n",
        ")\n",
        "\n",
        "# Visualize the RGB image with segment boundaries and the standard deviation of NDVI\n",
        "fig, axs = plt.subplots(ncols=2, figsize=(10,5), constrained_layout=True)\n",
        "\n",
        "# Display the original RGB image with segment boundaries\n",
        "axs[0].imshow(mark_boundaries(rgb, segments, (1,0,0), mode=\"thick\"))\n",
        "axs[0].set_title(\"RGB & Boundaries\")\n",
        "\n",
        "# Display the standard deviation of NDVI per segment with the 'viridis' colormap\n",
        "im = axs[1].imshow(mapped_std, cmap=\"viridis\")\n",
        "axs[1].set_title(\"Standard Deviation of NDVI per Segment\")\n",
        "fig.colorbar(im, ax=axs[1], fraction=0.046, pad=0.04)\n",
        "\n",
        "# Remove axis for both subplots\n",
        "for ax in axs.flat:\n",
        "    ax.set_axis_off()\n",
        "\n",
        "# Show the plots\n",
        "plt.show()\n"
      ],
      "metadata": {
        "id": "r96LDy5HI9P1"
      },
      "execution_count": null,
      "outputs": []
    },
    {
      "cell_type": "markdown",
      "metadata": {
        "id": "i0MC5ZEbGotY"
      },
      "source": [
        "### **II. Shape features**"
      ]
    },
    {
      "cell_type": "markdown",
      "metadata": {
        "id": "TFpwTx3dGotY"
      },
      "source": [
        "In addition to spectral features, **shape features** provide valuable information about the form and structure of segments, which can be critical in applications such as object recognition, land cover classification, and more.\n",
        "\n",
        "Common shape features include **rectangularity**, **compactness**, and **solidity**, which we've focused on in this tutorial. Other useful shape features include elongation, which measures how stretched or elongated a segment is, and circularity, which assesses how close the shape of a segment is to a perfect circle.\n"
      ]
    },
    {
      "cell_type": "markdown",
      "source": [
        "#### **I. Rectangularity**"
      ],
      "metadata": {
        "id": "JQuEs0IKWtk5"
      }
    },
    {
      "cell_type": "markdown",
      "source": [
        "Rectangularity is a measure of how closely the shape of a segment approximates a rectangle. It is defined as the ratio between the segment's area and the area of its bounding box. A segment that perfectly fills its bounding box will have a rectangularity value of 1, while segments that are more irregularly shaped will have lower values.\n",
        "\n",
        "Here’s how we can calculate rectangularity:"
      ],
      "metadata": {
        "id": "uYlCZEcIW4H2"
      }
    },
    {
      "cell_type": "code",
      "execution_count": null,
      "metadata": {
        "id": "vKJselutGotZ"
      },
      "outputs": [],
      "source": [
        "# Define a custom function to calculate the rectangularity of each segment\n",
        "def rectangularity(regionmask):\n",
        "    return regionmask.sum()/regionmask.size\n",
        "\n",
        "@timeit\n",
        "# Define a function to calculate rectangularity for all segments\n",
        "def calc_rect_shapes(seg_arr):\n",
        "    shp_feats = regionprops_table(\n",
        "        label_image = seg_arr,\n",
        "        properties = [\"label\", \"area_bbox\"],\n",
        "        extra_properties=(rectangularity,)\n",
        "        )\n",
        "    return pd.DataFrame(shp_feats)\n",
        "\n",
        "# Perform the rectangularity calculation for each segment and display the results\n",
        "rects = calc_rect_shapes(segments)\n",
        "display(rects)"
      ]
    },
    {
      "cell_type": "markdown",
      "source": [
        "Now, let's explore how the rectangularity of segments is distributed across the image. On the left, we have the original RGB image with the segment boundaries clearly defined, and on the right, we will map and display the rectangularity values for each segment."
      ],
      "metadata": {
        "id": "qvGy_cW0YXga"
      }
    },
    {
      "cell_type": "code",
      "source": [
        "# Map rectangularity values back to the image segments\n",
        "mapped_rectangularity = map_array(\n",
        "    segments,\n",
        "    np.array(rects[\"label\"]),            # Segment labels\n",
        "    np.array(rects[\"rectangularity\"])    # Rectangularity values\n",
        ")\n",
        "\n",
        "# Visualize the RGB image with segment boundaries and rectangularity\n",
        "fig, axs = plt.subplots(ncols=2, figsize=(10,5), constrained_layout=True)\n",
        "\n",
        "# Display the original RGB image with segment boundaries\n",
        "axs[0].imshow(mark_boundaries(rgb, segments, (1,0,0), mode=\"thick\"))\n",
        "axs[0].set_title(\"RGB & Boundaries\")\n",
        "\n",
        "# Display the rectangularity per segment\n",
        "im = axs[1].imshow(mapped_rectangularity, cmap=\"viridis\")\n",
        "axs[1].set_title(\"Rectangularity per Segment\")\n",
        "fig.colorbar(im, ax=axs[1], fraction=0.046, pad=0.04)\n",
        "\n",
        "# Remove axis for both subplots\n",
        "for ax in axs.flat:\n",
        "    ax.set_axis_off()\n",
        "\n",
        "# Show the plots\n",
        "plt.show()\n"
      ],
      "metadata": {
        "id": "2J7aGYuQX9Km"
      },
      "execution_count": null,
      "outputs": []
    },
    {
      "cell_type": "markdown",
      "source": [
        "#####**Task 3**\n",
        "Do you consider that the rectangularity will be the same if we rotate the objects in the image (e.g. Rotating a segment which delinates a car)?"
      ],
      "metadata": {
        "id": "bbZzqVGpQUPP"
      }
    },
    {
      "cell_type": "markdown",
      "source": [
        "**You answer goes here:**"
      ],
      "metadata": {
        "id": "kwkmb-l_Q_FK"
      }
    },
    {
      "cell_type": "markdown",
      "source": [
        "#### **II. Compactness & Solidity**"
      ],
      "metadata": {
        "id": "B-JicmctaRok"
      }
    },
    {
      "cell_type": "markdown",
      "source": [
        "*   **Compactness** quantifies how closely a segment's shape resembles a circle. High compactness indicates a circular shape, while lower values suggest more elongated or irregular shapes. This metric is useful for distinguishing between objects with similar areas but different shapes, such as circular ponds versus irregular river sections.\n",
        "\n",
        "  It is calculated using the formula:\n",
        "\n",
        "  \\begin{equation}\n",
        "  \\text{Compactness} = \\frac{4 \\times \\pi \\times \\text{Area}}{\\text{Perimeter}^2}\n",
        "  \\end{equation}\n",
        "\n",
        "\n",
        "*  **Solidity** measures how \"solid\" or \"filled\" a shape is by comparing the segment’s area to its convex hull (the smallest convex shape that can enclose the segment). High solidity suggests a solid shape with few indentations, while lower values indicate shapes with significant gaps or concavities.\n",
        "\n",
        "  It is calculated using the formula:\n",
        "  \\begin{equation}\n",
        "  \\text{Solidity} = \\frac{\\text{Area of the Segment}}{\\text{Area of the Convex Hull}}\n",
        "  \\end{equation}\n",
        "\n"
      ],
      "metadata": {
        "id": "0PZV6uYSazAV"
      }
    },
    {
      "cell_type": "code",
      "execution_count": null,
      "metadata": {
        "id": "aMUsQJjEGotZ"
      },
      "outputs": [],
      "source": [
        "# Define a function to calculate shape features, including compactness and solidity\n",
        "@timeit\n",
        "def calc_shapes(seg_arr, solidity=True):\n",
        "    if solidity:\n",
        "        props = [\"label\", \"solidity\", \"area\", \"perimeter\"]\n",
        "    else:\n",
        "        props = [\"label\", \"area\", \"perimeter\"]\n",
        "    shp_feats = regionprops_table(\n",
        "        label_image = seg_arr,\n",
        "        properties = props,\n",
        "        )\n",
        "    compactness = 4*np.pi*shp_feats[\"area\"]/(shp_feats[\"perimeter\"]**2)\n",
        "    shp_feats[\"compactness\"] = compactness\n",
        "    shp_feats.pop(\"area\")\n",
        "    shp_feats.pop(\"perimeter\")\n",
        "    return pd.DataFrame(shp_feats)\n",
        "\n",
        "# Perform the shape calculations and display the results\n",
        "shapes = calc_shapes(segments)\n",
        "display(shapes)"
      ]
    },
    {
      "cell_type": "markdown",
      "metadata": {
        "id": "f1nkJoy7Gota"
      },
      "source": [
        "Calculating the convex hull image for solidity can be computationally demanding (as evidenced in the cell below), especially when working with large datasets. Because of this, compactness is often a better choice when processing speed is important."
      ]
    },
    {
      "cell_type": "code",
      "execution_count": null,
      "metadata": {
        "id": "bR3IZKSeGotb"
      },
      "outputs": [],
      "source": [
        "# Compare timing between Compactness and Solidity calculations\n",
        "print(\"Solidity & Compactness\")\n",
        "_ = calc_shapes(segments)\n",
        "\n",
        "print(f\"\\nCompactness\")\n",
        "_ = calc_shapes(segments, solidity=False)"
      ]
    },
    {
      "cell_type": "markdown",
      "source": [
        "Let's check below how compactness and solidity values are distributed within each segment."
      ],
      "metadata": {
        "id": "g_Cz9U5LiJYa"
      }
    },
    {
      "cell_type": "code",
      "execution_count": null,
      "metadata": {
        "id": "5hSrbck6Gotb"
      },
      "outputs": [],
      "source": [
        "# Map compactness and solidity values back to their corresponding segments in the image\n",
        "mapped_compactness = map_array(segments, np.array(shapes[\"label\"]), np.array(shapes[\"compactness\"]))\n",
        "mapped_solidity = map_array(segments, np.array(shapes[\"label\"]), np.array(shapes[\"solidity\"]))\n",
        "\n",
        "#Display Original RGB, Compactness, and Solidity\n",
        "fig, axs = plt.subplots(ncols=3, figsize=(15,10), constrained_layout=True)\n",
        "axs[0].imshow(mark_boundaries(rgb, segments, (1,0,0), mode=\"thick\"))\n",
        "im1=axs[1].imshow(mapped_compactness, vmin = 0, vmax=1)\n",
        "im2=axs[2].imshow(mapped_solidity, vmin = 0, vmax=1)\n",
        "fig.colorbar(im1, ax=axs[1], fraction=0.046, pad=0.04)\n",
        "fig.colorbar(im2, ax=axs[2], fraction=0.046, pad=0.04)\n",
        "\n",
        "axs[0].set_title(\"RGB & Boundaries\")\n",
        "axs[1].set_title(\"Compactness\")\n",
        "axs[2].set_title(\"Solidity\")\n",
        "\n",
        "for ax in axs.flat:\n",
        "    ax.set_axis_off();\n",
        "\n",
        "# Show the plots\n",
        "plt.show()"
      ]
    },
    {
      "cell_type": "markdown",
      "source": [
        "#####**Task 4**\n",
        "Considering the timings and the visual results for the Compactness and Solidity shape features, which one do you think better distinguishes vegetation from non-vegetation segments?"
      ],
      "metadata": {
        "id": "IM3wPvB3Sole"
      }
    },
    {
      "cell_type": "markdown",
      "source": [
        "**You answer goes here:**"
      ],
      "metadata": {
        "id": "-X87w4hWTqRX"
      }
    },
    {
      "cell_type": "markdown",
      "metadata": {
        "id": "ZOh8hciRGotd"
      },
      "source": [
        "### **III. Textural features**"
      ]
    },
    {
      "cell_type": "markdown",
      "metadata": {
        "id": "WmnkDPJiGotd"
      },
      "source": [
        "Textural features are essential for analyzing the surface characteristics and patterns within an image. They are well-known for their ability to capture patterns based on the relationships between neighboring pixels. In this section, we will focus on a simple yet powerful textural feature: **entropy**."
      ]
    },
    {
      "cell_type": "markdown",
      "source": [
        "#### **I. Entropy**"
      ],
      "metadata": {
        "id": "2TjKU2d7jw7E"
      }
    },
    {
      "cell_type": "markdown",
      "metadata": {
        "id": "mSU3wupwGotp"
      },
      "source": [
        "Entropy measures the degree of randomness or disorder in the pixel intensity values within a segment. High entropy values indicate a high level of complexity and variation, such as in areas with mixed vegetation types. Conversely, low entropy values suggest more uniform and homogenous areas, like open fields or water bodies.\n",
        "\n",
        "In the following section, we will calculate and visualize the entropy of NDVI values within each segment."
      ]
    },
    {
      "cell_type": "code",
      "execution_count": null,
      "metadata": {
        "id": "cNVMSXE2Gotq"
      },
      "outputs": [],
      "source": [
        "# Function to calculate entropy for NDVI values within each segment\n",
        "def entropy_ndvi(regionmask, intensity_img):\n",
        "    vals = intensity_img[regionmask]\n",
        "    arr = stats.relfreq(vals, 100, defaultreallimits=(-1,1))[0]\n",
        "    return stats.entropy(arr)\n",
        "\n",
        "@timeit\n",
        "# Define a function to calculate entropy for all segments\n",
        "def calc_entropy(seg_arr, img_arr):\n",
        "    entropy_feats = regionprops_table(\n",
        "        label_image = seg_arr,\n",
        "        intensity_image = img_arr,\n",
        "        properties = [\"label\"],\n",
        "        extra_properties = (entropy_ndvi,)\n",
        "        )\n",
        "    return pd.DataFrame(entropy_feats)\n",
        "\n",
        "# Perform the entropy calculation and display the results\n",
        "entropy = calc_entropy(segments, ndvi)\n",
        "display(entropy)"
      ]
    },
    {
      "cell_type": "code",
      "execution_count": null,
      "metadata": {
        "id": "kCwYFm2FGotq"
      },
      "outputs": [],
      "source": [
        "# Visualise results\n",
        "mapped_entropy = map_array(segments, np.unique(segments), np.array(entropy[\"entropy_ndvi\"]))\n",
        "\n",
        "fig, axs = plt.subplots(ncols=2, figsize=(10,5), constrained_layout=True)\n",
        "axs[0].imshow(mark_boundaries(rgb, segments, (1,0,0), mode=\"thick\"))\n",
        "axs[0].set_title(\"RGB & Boundaries\")\n",
        "\n",
        "im=axs[1].imshow(mapped_entropy)\n",
        "axs[1].set_title(\"Entropy\")\n",
        "fig.colorbar(im, ax=axs[1], fraction=0.046, pad=0.04)\n",
        "\n",
        "for ax in axs.flat:\n",
        "    ax.set_axis_off();"
      ]
    },
    {
      "cell_type": "markdown",
      "source": [
        "#####**Task 5**\n",
        "Based on the Entropy image, which class(es) do you think can be easily identified, and why?"
      ],
      "metadata": {
        "id": "T3raSlEMUIPv"
      }
    },
    {
      "cell_type": "markdown",
      "source": [
        "**You answer goes here:**"
      ],
      "metadata": {
        "id": "bgsI9q3ZUQp-"
      }
    },
    {
      "cell_type": "markdown",
      "metadata": {
        "id": "ehLmvQysGot2"
      },
      "source": [
        "## **Conclusion & Further thoughts**"
      ]
    },
    {
      "cell_type": "markdown",
      "metadata": {
        "id": "YELart03Got2"
      },
      "source": [
        "This tutorial has demonstrated how to calculate and visualize a variety of features, each offering different insights into the segmented regions of an image. The choice of features depends on the segmentation technique used and the specific application at hand. Key considerations when selecting features include:\n",
        "\n",
        "*   **Interpretability of features** - Some features, like compactness, offer intuitive insights, while others may require more in-depth understanding to interpret correctly.\n",
        "*   **Scalability of calculations** - As datasets grow larger, especially in the context of big data, it becomes increasingly important to choose descriptors that are computationally efficient."
      ]
    }
  ],
  "metadata": {
    "kernelspec": {
      "display_name": "obia_tutorials",
      "language": "python",
      "name": "python3"
    },
    "language_info": {
      "codemirror_mode": {
        "name": "ipython",
        "version": 3
      },
      "file_extension": ".py",
      "mimetype": "text/x-python",
      "name": "python",
      "nbconvert_exporter": "python",
      "pygments_lexer": "ipython3",
      "version": "3.10.1"
    },
    "orig_nbformat": 4,
    "vscode": {
      "interpreter": {
        "hash": "03ca474701badda27714bc2f8463045a15615715ede98ee8a907c42ed944622a"
      }
    },
    "colab": {
      "provenance": []
    }
  },
  "nbformat": 4,
  "nbformat_minor": 0
}